{
  "nbformat": 4,
  "nbformat_minor": 0,
  "metadata": {
    "colab": {
      "provenance": [],
      "authorship_tag": "ABX9TyNOeOX9PpfrNbOd59kSVIm7",
      "include_colab_link": true
    },
    "kernelspec": {
      "name": "python3",
      "display_name": "Python 3"
    },
    "language_info": {
      "name": "python"
    }
  },
  "cells": [
    {
      "cell_type": "markdown",
      "metadata": {
        "id": "view-in-github",
        "colab_type": "text"
      },
      "source": [
        "<a href=\"https://colab.research.google.com/github/dd5nt/Counters/blob/main/Main09.ipynb\" target=\"_parent\"><img src=\"https://colab.research.google.com/assets/colab-badge.svg\" alt=\"Open In Colab\"/></a>"
      ]
    },
    {
      "cell_type": "code",
      "execution_count": null,
      "metadata": {
        "id": "4jR_-pK6kHJV"
      },
      "outputs": [],
      "source": [
        "# @title Загрузка библиотек\n",
        "import tensorflow as tf\n",
        "import matplotlib.pyplot as plt\n",
        "import pandas as pd\n",
        "import numpy as np\n",
        "import re\n",
        "\n",
        "from tensorflow.keras import utils\n",
        "from tensorflow.keras.models import Sequential, Model\n",
        "from tensorflow.keras.optimizers import Adam\n",
        "from tensorflow.keras.layers import Input, Concatenate,Dense, Activation, Dropout, BatchNormalization, concatenate\n",
        "from tensorflow.keras.utils import plot_model\n",
        "from tensorflow.keras.metrics import Precision, Recall\n",
        "from keras.preprocessing.text import Tokenizer, text_to_word_sequence,tokenizer_from_json\n",
        "\n",
        "from sklearn import preprocessing\n",
        "from sklearn.model_selection import train_test_split\n",
        "from sklearn.metrics import confusion_matrix, ConfusionMatrixDisplay\n",
        "from sklearn.metrics import classification_report\n",
        "\n",
        "import os"
      ]
    },
    {
      "cell_type": "code",
      "source": [
        "# @title Загрузка датасета\n",
        "import pandas as pd\n",
        "from google.colab import drive\n",
        "drive.mount('/content/gdrive')\n",
        "!ls \"gdrive/MyDrive/Project2/Data/\"\n",
        "!cp -r /content/gdrive/MyDrive/Project2/Data\t.\n",
        "#!cp -r /content/gdrive/MyDrive/Project2/Photo\tPhoto\n",
        "#z= zipfile.ZipFile('/content/Data/Reestr.zip','r')\n",
        "!unzip -q -o '/content/Data/Reestr.zip' -d '/content/Data/'\n",
        "!ls \"/content/Data/\"\n",
        "df = pd.read_excel(open('/content/Data/Reestr.xlsx','rb'))\n"
      ],
      "metadata": {
        "colab": {
          "base_uri": "https://localhost:8080/"
        },
        "id": "5pMqyAtuk4we",
        "outputId": "49c12014-c779-4fbd-a251-9ccc4770d874"
      },
      "execution_count": null,
      "outputs": [
        {
          "output_type": "stream",
          "name": "stdout",
          "text": [
            "Drive already mounted at /content/gdrive; to attempt to forcibly remount, call drive.mount(\"/content/gdrive\", force_remount=True).\n",
            "Image  Reestr.zip\n",
            "Image  Reestr.xlsx  Reestr.zip\n"
          ]
        }
      ]
    },
    {
      "cell_type": "code",
      "source": [
        "IMG_WIDTH = 768         # Ширина картинки\n",
        "IMG_HEIGHT = 1024       # Высота картинки\n",
        "TRAIN_DIR = 'train'     # Название папки с файлами обучающей выборки\n",
        "VAL_DIR = 'val'         # Название папки с файлами проверочной выборки\n",
        "TEST_DIR = 'test'       # Название папки с файлами тэстовой выборки\n",
        "# Границы выборок\n",
        "sep_train = int(0.8 * len(df))\n",
        "sep_test = int(0.9 * len(df))\n",
        "# Разбиение df на выборки\n",
        "df_train = df.iloc[:sep_train]\n",
        "df_val = df.iloc[sep_train+1:sep_test]\n",
        "df_test = df.iloc[sep_test+1:]\n",
        "print(df.shape)\n",
        "print(df_train.shape)\n",
        "print(df_val.shape)\n",
        "print(df_test.shape)"
      ],
      "metadata": {
        "colab": {
          "base_uri": "https://localhost:8080/"
        },
        "id": "sEFQ-jK0jhzM",
        "outputId": "a8f2d2ee-5db4-4b64-e865-5eec9a0a75c0"
      },
      "execution_count": null,
      "outputs": [
        {
          "output_type": "stream",
          "name": "stdout",
          "text": [
            "(1929, 4)\n",
            "(1543, 4)\n",
            "(192, 4)\n",
            "(192, 4)\n"
          ]
        }
      ]
    },
    {
      "cell_type": "code",
      "source": [
        "import os\n",
        "import shutil\n",
        "import pandas as pd\n",
        "\n",
        "def load_imageset(df_load, folder_from, folder_to):\n",
        "  dubl_file, error_file = 0, 0\n",
        "  df_res = pd.DataFrame(columns=df_load.columns)\n",
        "#  cur_time = time.time()\n",
        "  for index, row in df_load.iterrows():\n",
        "    file_name = Str(row['m_file'])+'.jpg'\n",
        "    # Проверяем существование файла\n",
        "    if os.path.isfile(folder_from + '/' + file_name):\n",
        "      # Выполняем перенос файла\n",
        "      shutil.move(folder_from + '/' + file_name, folder_to_to + '/' + file_name)\n",
        "      df_res = df_res.append(row)\n",
        "    else:\n",
        "      if os.path.isfile(folder_to + '/' + file_name):\n",
        "        print(f\"Файл {file_name} уже перенесен в {folder_to}\")\n",
        "        df_res = df_res.append(row)\n",
        "        dubl=+1\n",
        "      else:\n",
        "        print(f\"Файл {file_name} не найден в {folder_from}\")\n",
        "        error_file=+1\n",
        "  # Выводим статистику по переносу файлов\n",
        "  total_files = len(df)\n",
        "  success_files = len(found_df)\n",
        "  failed_files = total_files - success_files\n",
        "  print(f\"Статистика:\\n Всего {len(df_load)}\\n Успешно перенесено: {len(df_res)}\\n Не найдено файлов: {error_file}\\n Дублирование файлов: {dubl_file}\")\n",
        "  results = df_res\n",
        "\n",
        "def show_imageset(image_list, n):\n",
        "    fig, axs = plt.subplots(1, n, figsize=(25, 10))\n",
        "    for i in range(n):\n",
        "        img = random.choice(image_list)\n",
        "        axs[i].axis('off')\n",
        "        axs[i].imshow(img)\n",
        "    plt.show()"
      ],
      "metadata": {
        "id": "3EHVeF_0HSjO"
      },
      "execution_count": null,
      "outputs": []
    },
    {
      "cell_type": "code",
      "source": [
        "import os\n",
        "def create_folder(name):\n",
        "  if os.path.exists(name):\n",
        "    filelist = [f for f in os.listdir(name)]\n",
        "    for f in filelist:\n",
        "      os.remove(os.path.join(name, f))\n",
        "    os.rmdir(name)\n",
        "  os.mkdir(name)"
      ],
      "metadata": {
        "id": "2Lzj6WjEhwOC"
      },
      "execution_count": null,
      "outputs": []
    },
    {
      "cell_type": "code",
      "source": [
        "# Создаем структуру каталогов для обучения YOLO\n",
        "path = os.getcwd()\n",
        "root = path + '/meters/'\n",
        "img_path = root + 'images/'\n",
        "from_img = path + '/Data/Images/'\n",
        "train_img = img_path + 'train/'\n",
        "val_img = img_path + 'val/'\n",
        "test_img = img_path + 'test/'\n",
        "create_folder(train_img)\n",
        "create_folder(val_img)\n",
        "create_folder(test_img)\n",
        "\n",
        "df_train = load_imageset(df_train, from_img, train_img )\n",
        "#print(df_val.shape)\n",
        "#print(df_test.shape)"
      ],
      "metadata": {
        "id": "UyLPOGWNk5Kq",
        "colab": {
          "base_uri": "https://localhost:8080/",
          "height": 376
        },
        "outputId": "e97e5040-5830-4ac6-848e-af7d20fd77f3"
      },
      "execution_count": null,
      "outputs": [
        {
          "output_type": "error",
          "ename": "NameError",
          "evalue": "ignored",
          "traceback": [
            "\u001b[0;31m---------------------------------------------------------------------------\u001b[0m",
            "\u001b[0;31mNameError\u001b[0m                                 Traceback (most recent call last)",
            "\u001b[0;32m<ipython-input-27-905617dc89bc>\u001b[0m in \u001b[0;36m<cell line: 13>\u001b[0;34m()\u001b[0m\n\u001b[1;32m     11\u001b[0m \u001b[0mcreate_folder\u001b[0m\u001b[0;34m(\u001b[0m\u001b[0mtest_img\u001b[0m\u001b[0;34m)\u001b[0m\u001b[0;34m\u001b[0m\u001b[0;34m\u001b[0m\u001b[0m\n\u001b[1;32m     12\u001b[0m \u001b[0;34m\u001b[0m\u001b[0m\n\u001b[0;32m---> 13\u001b[0;31m \u001b[0mdf_train\u001b[0m \u001b[0;34m=\u001b[0m \u001b[0mload_imageset\u001b[0m\u001b[0;34m(\u001b[0m\u001b[0mdf_train\u001b[0m\u001b[0;34m,\u001b[0m \u001b[0mfrom_img\u001b[0m\u001b[0;34m,\u001b[0m \u001b[0mtrain_img\u001b[0m \u001b[0;34m)\u001b[0m\u001b[0;34m\u001b[0m\u001b[0;34m\u001b[0m\u001b[0m\n\u001b[0m\u001b[1;32m     14\u001b[0m \u001b[0;31m#print(df_val.shape)\u001b[0m\u001b[0;34m\u001b[0m\u001b[0;34m\u001b[0m\u001b[0m\n\u001b[1;32m     15\u001b[0m \u001b[0;31m#print(df_test.shape)\u001b[0m\u001b[0;34m\u001b[0m\u001b[0;34m\u001b[0m\u001b[0m\n",
            "\u001b[0;32m<ipython-input-25-05320d60a520>\u001b[0m in \u001b[0;36mload_imageset\u001b[0;34m(df_load, folder_from, folder_to)\u001b[0m\n\u001b[1;32m      8\u001b[0m \u001b[0;31m#  cur_time = time.time()\u001b[0m\u001b[0;34m\u001b[0m\u001b[0;34m\u001b[0m\u001b[0m\n\u001b[1;32m      9\u001b[0m   \u001b[0;32mfor\u001b[0m \u001b[0mindex\u001b[0m\u001b[0;34m,\u001b[0m \u001b[0mrow\u001b[0m \u001b[0;32min\u001b[0m \u001b[0mdf_load\u001b[0m\u001b[0;34m.\u001b[0m\u001b[0miterrows\u001b[0m\u001b[0;34m(\u001b[0m\u001b[0;34m)\u001b[0m\u001b[0;34m:\u001b[0m\u001b[0;34m\u001b[0m\u001b[0;34m\u001b[0m\u001b[0m\n\u001b[0;32m---> 10\u001b[0;31m     \u001b[0mfile_name\u001b[0m \u001b[0;34m=\u001b[0m \u001b[0mStr\u001b[0m\u001b[0;34m(\u001b[0m\u001b[0mrow\u001b[0m\u001b[0;34m[\u001b[0m\u001b[0;34m'm_file'\u001b[0m\u001b[0;34m]\u001b[0m\u001b[0;34m)\u001b[0m\u001b[0;34m+\u001b[0m\u001b[0;34m'.jpg'\u001b[0m\u001b[0;34m\u001b[0m\u001b[0;34m\u001b[0m\u001b[0m\n\u001b[0m\u001b[1;32m     11\u001b[0m     \u001b[0;31m# Проверяем существование файла\u001b[0m\u001b[0;34m\u001b[0m\u001b[0;34m\u001b[0m\u001b[0m\n\u001b[1;32m     12\u001b[0m     \u001b[0;32mif\u001b[0m \u001b[0mos\u001b[0m\u001b[0;34m.\u001b[0m\u001b[0mpath\u001b[0m\u001b[0;34m.\u001b[0m\u001b[0misfile\u001b[0m\u001b[0;34m(\u001b[0m\u001b[0mfolder_from\u001b[0m \u001b[0;34m+\u001b[0m \u001b[0;34m'/'\u001b[0m \u001b[0;34m+\u001b[0m \u001b[0mfile_name\u001b[0m\u001b[0;34m)\u001b[0m\u001b[0;34m:\u001b[0m\u001b[0;34m\u001b[0m\u001b[0;34m\u001b[0m\u001b[0m\n",
            "\u001b[0;31mNameError\u001b[0m: name 'Str' is not defined"
          ]
        }
      ]
    },
    {
      "cell_type": "code",
      "source": [
        "# Создаем структуру каталогов для обучения YOLO\n",
        "path = os.getcwd()\n",
        "root = path + '/meters/'\n",
        "img_path = root + 'images/'\n",
        "train_img = img_path + 'train/'\n",
        "val_img = img_path + 'val/'\n",
        "test_img = img_path + 'test/'\n",
        "os.makedirs(train_img)\n",
        "os.mkdir(val_img)\n",
        "lbl_path = root + 'labels/'\n",
        "train_lbl = lbl_path + 'train/'\n",
        "val_lbl = lbl_path + 'val/'\n",
        "test_lbl = lbl_path + 'test/'\n",
        "os.makedirs(train_lbl)\n",
        "os.mkdir(val_lbl)\n",
        "# Обрабатываем полученные файлы\n",
        "path = '/content/Image/'\n",
        "# Папка с изображениями\n",
        "images_path = path + 'images/'\n",
        "# Читаем датасет\n",
        "df = pd.read_csv(path + 'data.tsv', sep='\\t')\n",
        "# Получаем границу обучающей и проверочной выборки\n",
        "sepVal = int(0.8 * len(df))\n",
        "sepTest = int(0.1 * len(df))\n",
        "df.head()"
      ],
      "metadata": {
        "id": "9m1uqoWPBqQY",
        "colab": {
          "base_uri": "https://localhost:8080/",
          "height": 251
        },
        "outputId": "b2737379-f70a-4e79-cbdc-5f85a6409747"
      },
      "execution_count": null,
      "outputs": [
        {
          "output_type": "error",
          "ename": "NameError",
          "evalue": "ignored",
          "traceback": [
            "\u001b[0;31m---------------------------------------------------------------------------\u001b[0m",
            "\u001b[0;31mNameError\u001b[0m                                 Traceback (most recent call last)",
            "\u001b[0;32m<ipython-input-3-e5235740647d>\u001b[0m in \u001b[0;36m<cell line: 2>\u001b[0;34m()\u001b[0m\n\u001b[1;32m      1\u001b[0m \u001b[0;31m# Создаем структуру каталогов для обучения YOLO\u001b[0m\u001b[0;34m\u001b[0m\u001b[0;34m\u001b[0m\u001b[0m\n\u001b[0;32m----> 2\u001b[0;31m \u001b[0mpath\u001b[0m \u001b[0;34m=\u001b[0m \u001b[0mos\u001b[0m\u001b[0;34m.\u001b[0m\u001b[0mgetcwd\u001b[0m\u001b[0;34m(\u001b[0m\u001b[0;34m)\u001b[0m\u001b[0;34m\u001b[0m\u001b[0;34m\u001b[0m\u001b[0m\n\u001b[0m\u001b[1;32m      3\u001b[0m \u001b[0mroot\u001b[0m \u001b[0;34m=\u001b[0m \u001b[0mpath\u001b[0m \u001b[0;34m+\u001b[0m \u001b[0;34m'/meters/'\u001b[0m\u001b[0;34m\u001b[0m\u001b[0;34m\u001b[0m\u001b[0m\n\u001b[1;32m      4\u001b[0m \u001b[0mimg_path\u001b[0m \u001b[0;34m=\u001b[0m \u001b[0mroot\u001b[0m \u001b[0;34m+\u001b[0m \u001b[0;34m'images/'\u001b[0m\u001b[0;34m\u001b[0m\u001b[0;34m\u001b[0m\u001b[0m\n\u001b[1;32m      5\u001b[0m \u001b[0mtrain_img\u001b[0m \u001b[0;34m=\u001b[0m \u001b[0mimg_path\u001b[0m \u001b[0;34m+\u001b[0m \u001b[0;34m'train/'\u001b[0m\u001b[0;34m\u001b[0m\u001b[0;34m\u001b[0m\u001b[0m\n",
            "\u001b[0;31mNameError\u001b[0m: name 'os' is not defined"
          ]
        }
      ]
    },
    {
      "cell_type": "code",
      "source": [
        "def load_imageset(folder,subset,title):\n",
        "    image_list = []\n",
        "    cur_time = time.time()\n",
        "    for filename in sorted(os.listdir(f'{folder}/{subset}')):\n",
        "        image_list.append(image.load_img(os.path.join(f'{folder}/{subset}', filename),target_size=(IMG_WIDTH, IMG_HEIGHT)))\n",
        "    print('{} выборка загружена. Время загрузки: {:.2f} с'.format(title, time.time() - cur_time))\n",
        "    print('Количество изображений:', len(image_list))\n",
        "    return image_list\n",
        "\n",
        "def show_imageset(image_list, n):\n",
        "    fig, axs = plt.subplots(1, n, figsize=(25, 10))\n",
        "    for i in range(n):\n",
        "        img = random.choice(image_list)\n",
        "        axs[i].axis('off')\n",
        "        axs[i].imshow(img)\n",
        "    plt.show()\n",
        "\n",
        "train_images = load_imageset(TRAIN_DIRECTORY, 'original', 'Обучающая')\n",
        "val_images = load_imageset(VAL_DIRECTORY, 'original', 'Проверочная')"
      ],
      "metadata": {
        "id": "k20ah-IemJig",
        "colab": {
          "base_uri": "https://localhost:8080/",
          "height": 197
        },
        "outputId": "68aaace4-bdab-4312-bc4c-b1ca3f1e06db"
      },
      "execution_count": null,
      "outputs": [
        {
          "output_type": "error",
          "ename": "NameError",
          "evalue": "ignored",
          "traceback": [
            "\u001b[0;31m---------------------------------------------------------------------------\u001b[0m",
            "\u001b[0;31mNameError\u001b[0m                                 Traceback (most recent call last)",
            "\u001b[0;32m<ipython-input-2-4eb05b67b7f2>\u001b[0m in \u001b[0;36m<cell line: 1>\u001b[0;34m()\u001b[0m\n\u001b[0;32m----> 1\u001b[0;31m \u001b[0mtrain_images\u001b[0m \u001b[0;34m=\u001b[0m \u001b[0mload_imageset\u001b[0m\u001b[0;34m(\u001b[0m\u001b[0mTRAIN_DIRECTORY\u001b[0m\u001b[0;34m,\u001b[0m \u001b[0;34m'original'\u001b[0m\u001b[0;34m,\u001b[0m \u001b[0;34m'Обучающая'\u001b[0m\u001b[0;34m)\u001b[0m\u001b[0;34m\u001b[0m\u001b[0;34m\u001b[0m\u001b[0m\n\u001b[0m\u001b[1;32m      2\u001b[0m \u001b[0mval_images\u001b[0m \u001b[0;34m=\u001b[0m \u001b[0mload_imageset\u001b[0m\u001b[0;34m(\u001b[0m\u001b[0mVAL_DIRECTORY\u001b[0m\u001b[0;34m,\u001b[0m \u001b[0;34m'original'\u001b[0m\u001b[0;34m,\u001b[0m \u001b[0;34m'Проверочная'\u001b[0m\u001b[0;34m)\u001b[0m\u001b[0;34m\u001b[0m\u001b[0;34m\u001b[0m\u001b[0m\n",
            "\u001b[0;31mNameError\u001b[0m: name 'load_imageset' is not defined"
          ]
        }
      ]
    }
  ]
}